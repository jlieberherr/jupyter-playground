{
 "cells": [
  {
   "cell_type": "markdown",
   "metadata": {},
   "source": [
    "# Change encoding of all files in a folder and subfolders"
   ]
  },
  {
   "cell_type": "code",
   "execution_count": null,
   "metadata": {},
   "outputs": [],
   "source": [
    "import os\n",
    "import codecs"
   ]
  },
  {
   "cell_type": "code",
   "execution_count": null,
   "metadata": {},
   "outputs": [],
   "source": [
    "def transform_encoding(in_file, out_file, in_encoding, out_encoding):\n",
    "    # see https://stackoverflow.com/questions/191359/how-to-convert-a-file-to-utf-8-in-python\n",
    "    with codecs.open(in_file, \"r\", in_encoding) as source_file:\n",
    "        with codecs.open(out_file, \"w\", out_encoding) as target_file:\n",
    "            contents = source_file.read()\n",
    "            target_file.write(contents)"
   ]
  },
  {
   "cell_type": "code",
   "execution_count": null,
   "metadata": {},
   "outputs": [],
   "source": [
    "IN_ENCODING = \"mac_roman\"\n",
    "OUT_ENCODING = \"utf-8\""
   ]
  },
  {
   "cell_type": "code",
   "execution_count": null,
   "metadata": {},
   "outputs": [],
   "source": [
    "rootdir = \"TODO\""
   ]
  },
  {
   "cell_type": "code",
   "execution_count": null,
   "metadata": {},
   "outputs": [],
   "source": [
    "# iterate over all files and change encoding of .tex-files\n",
    "for subdir, dirs, files in os.walk(rootdir):\n",
    "    for file in files:\n",
    "        if file.endswith(\".tex\") and not file.startswith(\"._\"):\n",
    "            transform_encoding(os.path.join(subdir, file), os.path.join(subdir, u\"{}_utf8.tex\".format(file.split(\".\")[0])), IN_ENCODING, OUT_ENCODING)"
   ]
  }
 ],
 "metadata": {
  "kernelspec": {
   "display_name": "Python 2",
   "language": "python",
   "name": "python2"
  },
  "language_info": {
   "codemirror_mode": {
    "name": "ipython",
    "version": 2
   },
   "file_extension": ".py",
   "mimetype": "text/x-python",
   "name": "python",
   "nbconvert_exporter": "python",
   "pygments_lexer": "ipython2",
   "version": "2.7.13"
  }
 },
 "nbformat": 4,
 "nbformat_minor": 2
}
