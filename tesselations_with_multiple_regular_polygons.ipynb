{
 "cells": [
  {
   "cell_type": "markdown",
   "metadata": {},
   "source": [
    "# Tesselations with multiple regular polygons"
   ]
  },
  {
   "cell_type": "markdown",
   "metadata": {},
   "source": [
    "## Three regular polygons joining in one vertice"
   ]
  },
  {
   "cell_type": "code",
   "execution_count": 33,
   "metadata": {},
   "outputs": [],
   "source": [
    "n = 100"
   ]
  },
  {
   "cell_type": "code",
   "execution_count": 39,
   "metadata": {},
   "outputs": [],
   "source": [
    "res_3 = []\n",
    "for a in range(3, n + 1):\n",
    "    for b in range(a, n + 1):\n",
    "        for c in range(b, n + 1):\n",
    "            if (2 * (a * b + a * c + b * c)) == (a * b * c):\n",
    "                res_3+= [(a, b, c)]"
   ]
  },
  {
   "cell_type": "code",
   "execution_count": 40,
   "metadata": {},
   "outputs": [
    {
     "data": {
      "text/plain": [
       "[(3, 7, 42),\n",
       " (3, 8, 24),\n",
       " (3, 9, 18),\n",
       " (3, 10, 15),\n",
       " (3, 12, 12),\n",
       " (4, 5, 20),\n",
       " (4, 6, 12),\n",
       " (4, 8, 8),\n",
       " (5, 5, 10),\n",
       " (6, 6, 6)]"
      ]
     },
     "execution_count": 40,
     "metadata": {},
     "output_type": "execute_result"
    }
   ],
   "source": [
    "res_3"
   ]
  },
  {
   "cell_type": "markdown",
   "metadata": {},
   "source": [
    "## Four regular polygons joining in one vertice"
   ]
  },
  {
   "cell_type": "code",
   "execution_count": 41,
   "metadata": {},
   "outputs": [],
   "source": [
    "m = 100"
   ]
  },
  {
   "cell_type": "code",
   "execution_count": 46,
   "metadata": {},
   "outputs": [],
   "source": [
    "res_4 = []\n",
    "for a in range(3, m + 1):\n",
    "    for b in range(a, m + 1):\n",
    "        for c in range(b, m + 1):\n",
    "            for d in range(c, m + 1):\n",
    "                if (4 - 2) * a * b * c * d == 2 * ((a * b * c) + (a * b * d) + (a * c * d) + (b * c * d)):\n",
    "                    res_4+= [(a, b, c, d)]"
   ]
  },
  {
   "cell_type": "code",
   "execution_count": 47,
   "metadata": {},
   "outputs": [
    {
     "data": {
      "text/plain": [
       "[(3, 3, 4, 12), (3, 3, 6, 6), (3, 4, 4, 6), (4, 4, 4, 4)]"
      ]
     },
     "execution_count": 47,
     "metadata": {},
     "output_type": "execute_result"
    }
   ],
   "source": [
    "res_4"
   ]
  },
  {
   "cell_type": "code",
   "execution_count": null,
   "metadata": {},
   "outputs": [],
   "source": []
  }
 ],
 "metadata": {
  "kernelspec": {
   "display_name": "Python 2",
   "language": "python",
   "name": "python2"
  },
  "language_info": {
   "codemirror_mode": {
    "name": "ipython",
    "version": 2
   },
   "file_extension": ".py",
   "mimetype": "text/x-python",
   "name": "python",
   "nbconvert_exporter": "python",
   "pygments_lexer": "ipython2",
   "version": "2.7.13"
  }
 },
 "nbformat": 4,
 "nbformat_minor": 2
}
