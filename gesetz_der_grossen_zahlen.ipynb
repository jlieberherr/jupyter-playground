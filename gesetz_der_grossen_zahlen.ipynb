{
 "cells": [
  {
   "cell_type": "code",
   "execution_count": null,
   "metadata": {},
   "outputs": [],
   "source": [
    "import random\n",
    "import pandas as pd\n",
    "import matplotlib.pyplot as plt\n",
    "import math\n",
    "import numpy as np\n",
    "from math import factorial\n",
    "import pandas as pd"
   ]
  },
  {
   "cell_type": "markdown",
   "metadata": {},
   "source": [
    "# Ein Würfel"
   ]
  },
  {
   "cell_type": "code",
   "execution_count": null,
   "metadata": {},
   "outputs": [],
   "source": [
    "def spiel_mir_das_spiel_der_grossen_zahlen(anzahl_ausfuehrungen):\n",
    "    absolute_haeufigkeiten = {\n",
    "        1: 0,\n",
    "        2: 0,\n",
    "        3: 0,\n",
    "        4: 0,\n",
    "        5: 0,\n",
    "        6: 0\n",
    "    }\n",
    "    for _ in range(anzahl_ausfuehrungen):\n",
    "        neuer_zufallswurf = random.randint(1, 6)\n",
    "        absolute_haeufigkeiten[neuer_zufallswurf] += 1\n",
    "    relative_haeufigkeiten = {k: float(v) / anzahl_ausfuehrungen for k, v in absolute_haeufigkeiten.items()}\n",
    "    return absolute_haeufigkeiten, relative_haeufigkeiten"
   ]
  },
  {
   "cell_type": "code",
   "execution_count": null,
   "metadata": {},
   "outputs": [],
   "source": [
    "ANZAHL_WUERFE = 100000\n",
    "\n",
    "absolute_haeufigkeiten, relative_haeufigkeiten = spiel_mir_das_spiel_der_grossen_zahlen(ANZAHL_WUERFE)\n",
    "print \"Mittelwert absolut: \", float(ANZAHL_WUERFE) / 6\n",
    "print \"Mittelwert relativ: {}\".format( 1.0 / 6)\n",
    "print \"Absolute Häufigkeiten: \", absolute_haeufigkeiten\n",
    "print \"Relative Häufigkeiten: \", relative_haeufigkeiten\n",
    "df_absolute_haeufigkeiten =pd.DataFrame({\"Augenzahl\": absolute_haeufigkeiten.keys(), \"Absolute Häufigkeit\": absolute_haeufigkeiten.values()})\n",
    "ax_abs = df_absolute_haeufigkeiten.plot.bar(x=\"Augenzahl\", y=\"Absolute Häufigkeit\", legend=None)\n",
    "ax_abs.set_xlabel('Augenzahl')\n",
    "ax_abs.set_ylabel(u'Absolute Häufigkeit')\n",
    "df_relative_haeufigkeiten =pd.DataFrame({\"Augenzahl\": relative_haeufigkeiten.keys(), \"Relative Häufigkeit\": relative_haeufigkeiten.values()})\n",
    "ax_rel = df_relative_haeufigkeiten.plot.bar(x=\"Augenzahl\", y=\"Relative Häufigkeit\", legend=None)\n",
    "ax_rel.set_xlabel('Augenzahl')\n",
    "ax_rel.set_ylabel(u'Relative Häufigkeit')\n",
    "plt.show()"
   ]
  },
  {
   "cell_type": "markdown",
   "metadata": {},
   "source": [
    "# Zwei Würfel"
   ]
  },
  {
   "cell_type": "markdown",
   "metadata": {},
   "source": [
    "## Wie gross ist die Wahrscheinlichkeit, mit zwei Würfeln eine Doppelsechs zu werfen?"
   ]
  },
  {
   "cell_type": "code",
   "execution_count": null,
   "metadata": {},
   "outputs": [],
   "source": [
    "def anz_doppelsechsen(anzahl_ausfuehrungen):\n",
    "    anzahl_erfolge = 0\n",
    "    for _ in range(anzahl_ausfuehrungen):\n",
    "        zufaellige_zahl_wuerfel_1 = random.randint(1, 6)\n",
    "        zufaellige_zahl_wuerfel_2 = random.randint(1, 6)\n",
    "        if zufaellige_zahl_wuerfel_1 == 6 and zufaellige_zahl_wuerfel_2 == 6:\n",
    "            anzahl_erfolge += 1\n",
    "    return anzahl_erfolge, float(anzahl_erfolge) / anzahl_ausfuehrungen"
   ]
  },
  {
   "cell_type": "code",
   "execution_count": null,
   "metadata": {},
   "outputs": [],
   "source": [
    "anzahl_ausfuehrungen = 1000000\n",
    "abs_haeufigkeit, rel_haeufigkeit = anz_doppelsechsen(anzahl_ausfuehrungen)\n",
    "print \"Absolute Häufigkeit: {}\".format(abs_haeufigkeit)\n",
    "print \"Relative Häufigkeit: {}\".format(rel_haeufigkeit)\n",
    "print \"Wahrscheinlichkeit gemäss Modell: {}\".format(1.0 / 36.0)"
   ]
  },
  {
   "cell_type": "markdown",
   "metadata": {},
   "source": [
    "## Wie gross ist die Wahrscheinlichkeit, mit zwei Würfeln die Augensumme 7 zu werfen?"
   ]
  },
  {
   "cell_type": "code",
   "execution_count": null,
   "metadata": {},
   "outputs": [],
   "source": [
    "def zaehle_wuerfe_mit_gegebener_augensumme(anzahl_ausfuehrungen, augensumme):\n",
    "    ran = range(1, anzahl_ausfuehrungen + 1)\n",
    "    absolute_haeufigkeiten = []\n",
    "    anzahl_erfolge = 0\n",
    "    for _ in range(1, anzahl_ausfuehrungen + 1):\n",
    "        zufaellige_zahl_wuerfel_1 = random.randint(1, 6)\n",
    "        zufaellige_zahl_wuerfel_2 = random.randint(1, 6)\n",
    "        if zufaellige_zahl_wuerfel_1 + zufaellige_zahl_wuerfel_2 == augensumme:\n",
    "            anzahl_erfolge += 1\n",
    "        absolute_haeufigkeiten += [anzahl_erfolge]\n",
    "    relative_haeufigkeiten = [float(absolute_haeufigkeiten[i - 1]) / i for i in ran]\n",
    "    return absolute_haeufigkeiten, relative_haeufigkeiten"
   ]
  },
  {
   "cell_type": "code",
   "execution_count": null,
   "metadata": {},
   "outputs": [],
   "source": [
    "absolute_haeufigkeiten, relative_haeufigkeiten = zaehle_wuerfe_mit_gegebener_augensumme(1000, 7)\n",
    "print \"Häufigkeiten nach {} Durchführungen:\".format(len(absolute_haeufigkeiten))\n",
    "print \"   absolut: {}\".format(absolute_haeufigkeiten[-1])\n",
    "print \"   relativ: {}\".format(relative_haeufigkeiten[-1])\n",
    "fig, ax = plt.subplots()\n",
    "ax.plot(relative_haeufigkeiten, \"-\")\n",
    "plt.suptitle(u\"Entwicklung der relativen Häufigkeit ({} Durchführungen)\".format(len(absolute_haeufigkeiten)), fontsize=16, y=0.92)\n",
    "ax.set_xlabel(u\"Anzahl Ausführungen\", fontsize=12)\n",
    "ax.set_ylabel(u\"Relative Häufigkeit\", fontsize=12)\n",
    "ax.grid()\n",
    "fig.set_size_inches(12, 8)\n",
    "plt.show()"
   ]
  },
  {
   "cell_type": "markdown",
   "metadata": {},
   "source": [
    "# Chevalier de Méré"
   ]
  },
  {
   "cell_type": "markdown",
   "metadata": {},
   "source": [
    "## Wie gross ist die Wahrscheinlichkeit, mit vier Würfeln eine Sechs zu werfen?"
   ]
  },
  {
   "cell_type": "code",
   "execution_count": null,
   "metadata": {},
   "outputs": [],
   "source": [
    "def wuerfle_n_mal(n):\n",
    "    res = []\n",
    "    for _ in range(n):\n",
    "        res += [random.randint(1, 6)]\n",
    "    return res"
   ]
  },
  {
   "cell_type": "code",
   "execution_count": null,
   "metadata": {},
   "outputs": [],
   "source": [
    "def mehrmals_chevalier_de_mere_1(anzahl_ausfuehrungen):\n",
    "    ran = range(1, anzahl_ausfuehrungen + 1)\n",
    "    absolute_haeufigkeiten = []\n",
    "    anzahl_erfolge = 0\n",
    "    for _ in range(1, anzahl_ausfuehrungen + 1):\n",
    "        wurf = wuerfle_n_mal(4)\n",
    "        if 6 in wurf:\n",
    "            anzahl_erfolge += 1\n",
    "        absolute_haeufigkeiten += [anzahl_erfolge]\n",
    "    relative_haeufigkeiten = [float(absolute_haeufigkeiten[i - 1]) / i for i in ran]\n",
    "    return absolute_haeufigkeiten, relative_haeufigkeiten"
   ]
  },
  {
   "cell_type": "code",
   "execution_count": null,
   "metadata": {},
   "outputs": [],
   "source": [
    "absolute_haeufigkeiten, relative_haeufigkeiten = mehrmals_chevalier_de_mere_1(1000)\n",
    "print \"Häufigkeiten nach {} Durchführungen:\".format(len(absolute_haeufigkeiten))\n",
    "print \"   absolut: {}\".format(absolute_haeufigkeiten[-1])\n",
    "print \"   relativ: {}\".format(relative_haeufigkeiten[-1])\n",
    "fig, ax = plt.subplots()\n",
    "ax.plot(relative_haeufigkeiten, \"-\")\n",
    "plt.suptitle(u\"Entwicklung der relativen Häufigkeit ({} Durchführungen)\".format(len(absolute_haeufigkeiten)), fontsize=16, y=0.92)\n",
    "ax.set_xlabel(u\"Anzahl Ausführungen\", fontsize=12)\n",
    "ax.set_ylabel(u\"Relative Häufigkeit\", fontsize=12)\n",
    "ax.grid()\n",
    "fig.set_size_inches(12, 8)\n",
    "plt.show()"
   ]
  },
  {
   "cell_type": "markdown",
   "metadata": {},
   "source": [
    "# Schätzung von Pi"
   ]
  },
  {
   "cell_type": "code",
   "execution_count": null,
   "metadata": {},
   "outputs": [],
   "source": [
    "def schaetze_pi(anzahl_ausfuehrungen):\n",
    "    zufaellige_punkte = [(random.random(), random.random()) for _ in range(anzahl_ausfuehrungen)]\n",
    "    points_in = []\n",
    "    points_out = []\n",
    "    relative_haeufigkeiten = []\n",
    "    nb_points_inside = 0\n",
    "    for ind, zuf_punkt in enumerate(zufaellige_punkte):\n",
    "        if (math.pow(zuf_punkt[0] - 0.5, 2) + math.pow(zuf_punkt[1] - 0.5, 2)) <= 0.25:\n",
    "            nb_points_inside += 1\n",
    "            points_in += [zuf_punkt]\n",
    "        else:\n",
    "            points_out += [zuf_punkt]\n",
    "        relative_haeufigkeiten += [float(nb_points_inside) / float(ind + 1)]    \n",
    "    fig, ((ax_square, ax_conv), (ax_off, ax_conv_small)) = plt.subplots(2, 2)\n",
    "    x_in, y_in = zip(*points_in)\n",
    "    point_size = 5\n",
    "    ax_square.scatter(x_in, y_in, color=\"g\", s=point_size)\n",
    "    x_out, y_out = zip(*points_out)\n",
    "    ax_square.scatter(x_out, y_out, color=\"r\", s=point_size)\n",
    "    circle = plt.Circle((0.5, 0.5), radius=0.5, fill=False)\n",
    "    ax_square.add_artist(circle)\n",
    "    ax_square.set_xlim(0, 1)\n",
    "    ax_square.set_ylim(0, 1)\n",
    "    ax_square.set_aspect('equal', adjustable='box')\n",
    "    ax_square.set_xlabel(u\"x\")\n",
    "    ax_square.set_ylabel(u\"y\")\n",
    "    limit = math.pi / 4\n",
    "    for ax in [ax_conv, ax_conv_small]:\n",
    "        ax.plot(relative_haeufigkeiten, \"-\")\n",
    "        ax.axhline(limit, color=\"g\")\n",
    "        if ax == ax_conv:\n",
    "            ax.set_ylim(0, 1)\n",
    "            ax.set_yticks(np.arange(0, 1.0001, 0.05))\n",
    "        if ax == ax_conv_small:\n",
    "            y_min = 0.75\n",
    "            y_max = 0.85\n",
    "            ax.set_ylim(y_min, y_max)\n",
    "            ax.set_yticks(np.arange(y_min, y_max, 0.01))\n",
    "        ax.grid()\n",
    "        ax.set_xlabel(u\"Anzahl Ausführungen\")\n",
    "        ax.set_ylabel(u\"Relative Häufigkeit\")\n",
    "    ax_off.axis(\"off\")\n",
    "    fig.set_size_inches(22, 22)\n",
    "    plt.show()\n",
    "    return relative_haeufigkeiten[-1], limit"
   ]
  },
  {
   "cell_type": "code",
   "execution_count": null,
   "metadata": {},
   "outputs": [],
   "source": [
    "relative_haeufigkeit, erwartet = schaetze_pi(1000)\n",
    "print \"Erwartet: {}, relative Häufigkeit: {}, Abweichung in %: {}%\".format(erwartet, relative_haeufigkeit, (relative_haeufigkeit / erwartet - 1) * 100)"
   ]
  },
  {
   "cell_type": "markdown",
   "metadata": {},
   "source": [
    "# Geburtstagsparadoxon"
   ]
  },
  {
   "cell_type": "code",
   "execution_count": null,
   "metadata": {},
   "outputs": [],
   "source": [
    "def fuehre_geburtsagsexperiment_aus(anzahl_ausfuehrungen, anzahl_personen=23):\n",
    "    def erzeuge_geburtstage_und_teste_auf_mehrfache(anz_personen):\n",
    "        zufaellige_geburtstage = [random.randint(1, 365) for _ in range(anz_personen)]\n",
    "        if len(zufaellige_geburtstage) == len(set(zufaellige_geburtstage)):\n",
    "            return 0\n",
    "        else:\n",
    "            return 1\n",
    "    list_hat_mehrfache_geburtstage = [erzeuge_geburtstage_und_teste_auf_mehrfache(anzahl_personen) for _ in range(anzahl_ausfuehrungen)]\n",
    "    relative_haeufigkeiten = []\n",
    "    cum_sum = 0\n",
    "    for ind, ist_mehrfach in enumerate(list_hat_mehrfache_geburtstage):\n",
    "        cum_sum += ist_mehrfach\n",
    "        relative_haeufigkeiten += [float(cum_sum) / float(ind + 1)]\n",
    "    exp = 1.0\n",
    "    for i in range(anzahl_personen):\n",
    "        exp *= float(365 - i) / 365\n",
    "    exp = 1 - exp\n",
    "    fig, ((ax_0_1), (ax_small)) = plt.subplots(1, 2)\n",
    "    ax_0_1.plot(relative_haeufigkeiten, \"-\")\n",
    "    ax_0_1.axhline(exp, color=\"g\")\n",
    "    ax_0_1.set_ylim(0, 1)\n",
    "    ax_0_1.set_yticks(np.arange(0, 1.00001, 0.05))\n",
    "    ax_0_1.grid()\n",
    "    ax_0_1.set_xlabel(u\"Anzahl Ausführungen\")\n",
    "    ax_0_1.set_ylabel(u\"Relative Häufigkeit\")\n",
    "    \n",
    "    ax_small.plot(relative_haeufigkeiten, \"-\")\n",
    "    ax_small.axhline(exp, color=\"g\")\n",
    "    ax_small.set_ylim(0.4, 0.6)\n",
    "    ax_small.set_yticks(np.arange(0.4, 0.60001, 0.01))\n",
    "    ax_small.grid()\n",
    "    ax_small.set_xlabel(u\"Anzahl Ausführungen\")\n",
    "    ax_small.set_ylabel(u\"Relative Häufigkeit\")\n",
    "    fig.set_size_inches(20, 8)\n",
    "    plt.show()\n",
    "    return float(sum(list_hat_mehrfache_geburtstage)) / anzahl_ausfuehrungen, exp"
   ]
  },
  {
   "cell_type": "code",
   "execution_count": null,
   "metadata": {},
   "outputs": [],
   "source": [
    "fuehre_geburtsagsexperiment_aus(10000)"
   ]
  },
  {
   "cell_type": "markdown",
   "metadata": {},
   "source": [
    "## Lotto"
   ]
  },
  {
   "cell_type": "code",
   "execution_count": null,
   "metadata": {},
   "outputs": [],
   "source": [
    "def ziehe_k_aus_n(n, k):\n",
    "    li = range(1, n + 1)\n",
    "    res = []\n",
    "    for i in range(k):\n",
    "        r = random.randint(0, len(li) - 1)\n",
    "        res += [li[r]]\n",
    "        del li[r]\n",
    "    return sorted(res)"
   ]
  },
  {
   "cell_type": "code",
   "execution_count": null,
   "metadata": {},
   "outputs": [],
   "source": [
    "ziehe_k_aus_n(42, 6)"
   ]
  },
  {
   "cell_type": "code",
   "execution_count": null,
   "metadata": {},
   "outputs": [],
   "source": [
    "def spiele_lotto_k_aus_n(tip, n=42, k=6):\n",
    "    if len(tip) != k:\n",
    "        raise ValueError(\"length of tip must be k\")\n",
    "    ziehung = ziehe_k_aus_n(n, k)\n",
    "    return {\n",
    "        \"tip\": tip,\n",
    "        \"ziehung\": ziehung,\n",
    "        \"anzahl_richtige\": len(set(ziehung).intersection(set(tip)))\n",
    "    }"
   ]
  },
  {
   "cell_type": "code",
   "execution_count": null,
   "metadata": {},
   "outputs": [],
   "source": [
    "spiele_lotto_k_aus_n([1, 2, 3, 4, 5, 6])"
   ]
  },
  {
   "cell_type": "code",
   "execution_count": null,
   "metadata": {},
   "outputs": [],
   "source": [
    "def simuliere_anzahl_richtige_lotto(anzahl_ausfuehrungen, n=42, k=6):\n",
    "    anz_richtige = {i: 0 for i in range(k + 1)}\n",
    "    for _ in range(anzahl_ausfuehrungen):\n",
    "        tip = ziehe_k_aus_n(n, k)\n",
    "        ar = spiele_lotto_k_aus_n(tip, n, k)[\"anzahl_richtige\"]\n",
    "        anz_richtige[ar] += 1\n",
    "    return anz_richtige, {i: float(anz_richtige[i]) / float(anzahl_ausfuehrungen) for i in range(k + 1)}"
   ]
  },
  {
   "cell_type": "code",
   "execution_count": null,
   "metadata": {},
   "outputs": [],
   "source": [
    "def nb_comb(n, k):\n",
    "    return factorial(n) / factorial(k) / factorial(n - k)"
   ]
  },
  {
   "cell_type": "code",
   "execution_count": null,
   "metadata": {},
   "outputs": [],
   "source": [
    "nb_comb(42, 6)"
   ]
  },
  {
   "cell_type": "code",
   "execution_count": null,
   "metadata": {},
   "outputs": [],
   "source": [
    "n = 42\n",
    "k = 6\n",
    "anzahl_ausfuehrungen = 100000\n",
    "res = simuliere_anzahl_richtige_lotto(anzahl_ausfuehrungen, n, k)\n",
    "print \"anzahl richtige experiment absolute haeufigkeiten: {}\".format(res[0])\n",
    "n_aus_k = nb_comb(42, 6)\n",
    "theorie_wkeit = {r: float(nb_comb(6, r) * nb_comb(n - k, k - r)) / float(n_aus_k) for r in range(0, k + 1)}\n",
    "theorie_abs = {r: theorie_wkeit[r] * float(anzahl_ausfuehrungen) for r in range(0, k + 1)}\n",
    "print \"anzahl theoretisch erwartet: {}\".format({k: \"{:.4f}\".format(v) for k, v in theorie_abs.items()})\n",
    "print \"anzahl richtige experiment relative haeufigkeiten: {}\".format({k: \"{:.4f}\".format(v) for k, v in res[1].items()})\n",
    "print \"wahrscheinlichkeit theoretisch erwartet: {}\".format({k: \"{:.4f}\".format(v) for k, v in theorie_wkeit.items()})\n",
    "pd.DataFrame.from_records([res[0], theorie_abs, res[1], theorie_wkeit]).transpose().round(5).reset_index().rename(columns={\n",
    "    \"index\": \"Anzahl Richtige\",\n",
    "    0: \"Absolute Haeufigkeit Expermient\", \n",
    "    1: \"Erwartete Anzahl Theorie\", \n",
    "    2: \"Relative Häufigkeit Experiemnt\", \n",
    "    3: \"Wahrscheinlichkeit Theorie\"\n",
    "}).astype({\"Absolute Haeufigkeit Expermient\": \"int32\"})"
   ]
  }
 ],
 "metadata": {
  "kernelspec": {
   "display_name": "Python 2",
   "language": "python",
   "name": "python2"
  },
  "language_info": {
   "codemirror_mode": {
    "name": "ipython",
    "version": 2
   },
   "file_extension": ".py",
   "mimetype": "text/x-python",
   "name": "python",
   "nbconvert_exporter": "python",
   "pygments_lexer": "ipython2",
   "version": "2.7.13"
  }
 },
 "nbformat": 4,
 "nbformat_minor": 2
}
