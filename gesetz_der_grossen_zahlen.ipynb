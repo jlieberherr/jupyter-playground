{
 "cells": [
  {
   "cell_type": "code",
   "execution_count": null,
   "metadata": {},
   "outputs": [],
   "source": [
    "import random\n",
    "import pandas as pd\n",
    "import matplotlib.pyplot as plt\n",
    "import math\n",
    "import numpy as np"
   ]
  },
  {
   "cell_type": "markdown",
   "metadata": {},
   "source": [
    "# Ein Würfel"
   ]
  },
  {
   "cell_type": "code",
   "execution_count": null,
   "metadata": {},
   "outputs": [],
   "source": [
    "def spiel_mir_das_spiel_der_grossen_zahlen(anzahl_ausfuehrungen):\n",
    "    absolute_haeufigkeiten = {\n",
    "        1: 0,\n",
    "        2: 0,\n",
    "        3: 0,\n",
    "        4: 0,\n",
    "        5: 0,\n",
    "        6: 0\n",
    "    }\n",
    "    for _ in range(anzahl_ausfuehrungen):\n",
    "        neuer_zufallswurf = random.randint(1, 6)\n",
    "        absolute_haeufigkeiten[neuer_zufallswurf] += 1\n",
    "    relative_haeufigkeiten = {k: float(v) / anzahl_ausfuehrungen for k, v in absolute_haeufigkeiten.items()}\n",
    "    return absolute_haeufigkeiten, relative_haeufigkeiten"
   ]
  },
  {
   "cell_type": "code",
   "execution_count": null,
   "metadata": {},
   "outputs": [],
   "source": [
    "ANZAHL_WUERFE = 100000\n",
    "\n",
    "absolute_haeufigkeiten, relative_haeufigkeiten = spiel_mir_das_spiel_der_grossen_zahlen(ANZAHL_WUERFE)\n",
    "print \"Mittelwert absolut: \", float(ANZAHL_WUERFE) / 6\n",
    "print \"Mittelwert relativ: {}\".format( 1.0 / 6)\n",
    "print \"Absolute Häufigkeiten: \", absolute_haeufigkeiten\n",
    "print \"Relative Häufigkeiten: \", relative_haeufigkeiten\n",
    "df_absolute_haeufigkeiten =pd.DataFrame({\"Augenzahl\": absolute_haeufigkeiten.keys(), \"Absolute Häufigkeit\": absolute_haeufigkeiten.values()})\n",
    "ax_abs = df_absolute_haeufigkeiten.plot.bar(x=\"Augenzahl\", y=\"Absolute Häufigkeit\", legend=None)\n",
    "ax_abs.set_xlabel('Augenzahl')\n",
    "ax_abs.set_ylabel(u'Absolute Häufigkeit')\n",
    "df_relative_haeufigkeiten =pd.DataFrame({\"Augenzahl\": relative_haeufigkeiten.keys(), \"Relative Häufigkeit\": relative_haeufigkeiten.values()})\n",
    "ax_rel = df_relative_haeufigkeiten.plot.bar(x=\"Augenzahl\", y=\"Relative Häufigkeit\", legend=None)\n",
    "ax_rel.set_xlabel('Augenzahl')\n",
    "ax_rel.set_ylabel(u'Relative Häufigkeit')\n",
    "plt.show()"
   ]
  },
  {
   "cell_type": "markdown",
   "metadata": {},
   "source": [
    "# Zwei Würfel"
   ]
  },
  {
   "cell_type": "markdown",
   "metadata": {},
   "source": [
    "## Wie gross ist die Wahrscheinlichkeit, mit zwei Würfeln eine Doppelsechs zu werfen?"
   ]
  },
  {
   "cell_type": "code",
   "execution_count": null,
   "metadata": {},
   "outputs": [],
   "source": [
    "def anz_doppelsechsen(anzahl_ausfuehrungen):\n",
    "    anzahl_erfolge = 0\n",
    "    for _ in range(anzahl_ausfuehrungen):\n",
    "        zufaellige_zahl_wuerfel_1 = random.randint(1, 6)\n",
    "        zufaellige_zahl_wuerfel_2 = random.randint(1, 6)\n",
    "        if zufaellige_zahl_wuerfel_1 == 6 and zufaellige_zahl_wuerfel_2 == 6:\n",
    "            anzahl_erfolge += 1\n",
    "    return anzahl_erfolge, float(anzahl_erfolge) / anzahl_ausfuehrungen"
   ]
  },
  {
   "cell_type": "code",
   "execution_count": null,
   "metadata": {},
   "outputs": [],
   "source": [
    "anzahl_ausfuehrungen = 1000000\n",
    "abs_haeufigkeit, rel_haeufigkeit = anz_doppelsechsen(anzahl_ausfuehrungen)\n",
    "print \"Absolute Häufigkeit: {}\".format(abs_haeufigkeit)\n",
    "print \"Relative Häufigkeit: {}\".format(rel_haeufigkeit)\n",
    "print \"Wahrscheinlichkeit gemäss Modell: {}\".format(1.0 / 36.0)"
   ]
  },
  {
   "cell_type": "markdown",
   "metadata": {},
   "source": [
    "## Wie gross ist die Wahrscheinlichkeit, mit zwei Würfeln die Augensumme 7 zu werfen?"
   ]
  },
  {
   "cell_type": "markdown",
   "metadata": {},
   "source": [
    "## Wie gross ist die Wahrscheinlichkeit, mit zwei Würfeln die Augensumme 7 zu werfen?"
   ]
  },
  {
   "cell_type": "code",
   "execution_count": null,
   "metadata": {},
   "outputs": [],
   "source": [
    "def zaehle_wuerfe_mit_gegebener_augensumme(anzahl_ausfuehrungen, augensumme):\n",
    "    anzahl_erfolge = 0\n",
    "    for _ in range(anzahl_ausfuehrungen):\n",
    "        zufaellige_zahl_wuerfel_1 = random.randint(1, 6)\n",
    "        zufaellige_zahl_wuerfel_2 = random.randint(1, 6)\n",
    "        if zufaellige_zahl_wuerfel_1 + zufaellige_zahl_wuerfel_2 == augensumme:\n",
    "            anzahl_erfolge += 1\n",
    "    return anzahl_erfolge, float(anzahl_erfolge) / anzahl_ausfuehrungen"
   ]
  },
  {
   "cell_type": "code",
   "execution_count": null,
   "metadata": {},
   "outputs": [],
   "source": [
    "abs_haeufigkeit, rel_haeufigkeit = zaehle_wuerfe_mit_gegebener_augensumme(100000, 7)\n",
    "print \"Absolute Häufigkeit: {}\".format(abs_haeufigkeit)\n",
    "print \"Relative Häufigkeit: {}\".format(rel_haeufigkeit)"
   ]
  },
  {
   "cell_type": "markdown",
   "metadata": {},
   "source": [
    "# Schätzung von Pi"
   ]
  },
  {
   "cell_type": "code",
   "execution_count": null,
   "metadata": {},
   "outputs": [],
   "source": [
    "def schaetze_pi(anzahl_ausfuehrungen):\n",
    "    zufaellige_punkte = [(random.random(), random.random()) for _ in range(anzahl_ausfuehrungen)]\n",
    "    points_in = []\n",
    "    points_out = []\n",
    "    relative_haeufigkeiten = []\n",
    "    nb_points_inside = 0\n",
    "    for ind, zuf_punkt in enumerate(zufaellige_punkte):\n",
    "        if (math.pow(zuf_punkt[0] - 0.5, 2) + math.pow(zuf_punkt[1] - 0.5, 2)) <= 0.25:\n",
    "            nb_points_inside += 1\n",
    "            points_in += [zuf_punkt]\n",
    "        else:\n",
    "            points_out += [zuf_punkt]\n",
    "        relative_haeufigkeiten += [float(nb_points_inside) / float(ind + 1)]    \n",
    "    fig, ((ax_square, ax_conv), (ax_off, ax_conv_small)) = plt.subplots(2, 2)\n",
    "    x_in, y_in = zip(*points_in)\n",
    "    point_size = 5\n",
    "    ax_square.scatter(x_in, y_in, color=\"g\", s=point_size)\n",
    "    x_out, y_out = zip(*points_out)\n",
    "    ax_square.scatter(x_out, y_out, color=\"r\", s=point_size)\n",
    "    circle = plt.Circle((0.5, 0.5), radius=0.5, fill=False)\n",
    "    ax_square.add_artist(circle)\n",
    "    ax_square.set_xlim(0, 1)\n",
    "    ax_square.set_ylim(0, 1)\n",
    "    ax_square.set_aspect('equal', adjustable='box')\n",
    "    ax_square.set_xlabel(u\"x\")\n",
    "    ax_square.set_ylabel(u\"y\")\n",
    "    limit = math.pi / 4\n",
    "    for ax in [ax_conv, ax_conv_small]:\n",
    "        ax.plot(relative_haeufigkeiten, \"-\")\n",
    "        ax.axhline(limit, color=\"g\")\n",
    "        if ax == ax_conv:\n",
    "            ax.set_ylim(0, 1)\n",
    "            ax.set_yticks(np.arange(0, 1.0001, 0.05))\n",
    "        if ax == ax_conv_small:\n",
    "            print \"hier\"\n",
    "            y_min = 0.75\n",
    "            y_max = 0.85\n",
    "            ax.set_ylim(y_min, y_max)\n",
    "            ax.set_yticks(np.arange(y_min, y_max, 0.01))\n",
    "        ax.grid()\n",
    "        ax.set_xlabel(u\"Anzahl Ausführungen\")\n",
    "        ax.set_ylabel(u\"Relative Häufigkeit\")\n",
    "    ax_off.axis(\"off\")\n",
    "    fig.set_size_inches(22, 22)\n",
    "    plt.show()\n",
    "    return relative_haeufigkeiten[-1], limit"
   ]
  },
  {
   "cell_type": "code",
   "execution_count": null,
   "metadata": {},
   "outputs": [],
   "source": [
    "relative_haeufigkeit, erwartet = schaetze_pi(1000)\n",
    "print \"Erwartet: {}, relative Häufigkeit: {}, Abweichung in %: {}%\".format(erwartet, relative_haeufigkeit, (relative_haeufigkeit / erwartet - 1) * 100)"
   ]
  },
  {
   "cell_type": "markdown",
   "metadata": {},
   "source": [
    "# Geburtstagsparadoxon"
   ]
  },
  {
   "cell_type": "code",
   "execution_count": null,
   "metadata": {},
   "outputs": [],
   "source": [
    "def fuehre_geburtsagsexperiment_aus(anzahl_ausfuehrungen, anzahl_personen=23):\n",
    "    def erzeuge_geburtstage_und_teste_auf_mehrfache(anz_personen):\n",
    "        zufaellige_geburtstage = [random.randint(1, 365) for _ in range(anz_personen)]\n",
    "        if len(zufaellige_geburtstage) == len(set(zufaellige_geburtstage)):\n",
    "            return 0\n",
    "        else:\n",
    "            return 1\n",
    "    list_hat_mehrfache_geburtstage = [erzeuge_geburtstage_und_teste_auf_mehrfache(anzahl_personen) for _ in range(anzahl_ausfuehrungen)]\n",
    "    relative_haeufigkeiten = []\n",
    "    cum_sum = 0\n",
    "    for ind, ist_mehrfach in enumerate(list_hat_mehrfache_geburtstage):\n",
    "        cum_sum += ist_mehrfach\n",
    "        relative_haeufigkeiten += [float(cum_sum) / float(ind + 1)]\n",
    "    exp = 1.0\n",
    "    for i in range(anzahl_personen):\n",
    "        exp *= float(365 - i) / 365\n",
    "    exp = 1 - exp\n",
    "    fig, ((ax_0_1), (ax_small)) = plt.subplots(1, 2)\n",
    "    ax_0_1.plot(relative_haeufigkeiten, \"-\")\n",
    "    ax_0_1.axhline(exp, color=\"g\")\n",
    "    ax_0_1.set_ylim(0, 1)\n",
    "    ax_0_1.set_yticks(np.arange(0, 1.00001, 0.05))\n",
    "    ax_0_1.grid()\n",
    "    ax_0_1.set_xlabel(u\"Anzahl Ausführungen\")\n",
    "    ax_0_1.set_ylabel(u\"Relative Häufigkeit\")\n",
    "    \n",
    "    ax_small.plot(relative_haeufigkeiten, \"-\")\n",
    "    ax_small.axhline(exp, color=\"g\")\n",
    "    ax_small.set_ylim(0.4, 0.6)\n",
    "    ax_small.set_yticks(np.arange(0.4, 0.60001, 0.01))\n",
    "    ax_small.grid()\n",
    "    ax_small.set_xlabel(u\"Anzahl Ausführungen\")\n",
    "    ax_small.set_ylabel(u\"Relative Häufigkeit\")\n",
    "    fig.set_size_inches(20, 8)\n",
    "    plt.show()\n",
    "    return float(sum(list_hat_mehrfache_geburtstage)) / anzahl_ausfuehrungen, exp"
   ]
  },
  {
   "cell_type": "code",
   "execution_count": null,
   "metadata": {},
   "outputs": [],
   "source": [
    "fuehre_geburtsagsexperiment_aus(10000)"
   ]
  },
  {
   "cell_type": "markdown",
   "metadata": {},
   "source": [
    "## Lotto"
   ]
  },
  {
   "cell_type": "code",
   "execution_count": null,
   "metadata": {},
   "outputs": [],
   "source": []
  }
 ],
 "metadata": {
  "kernelspec": {
   "display_name": "Python 2",
   "language": "python",
   "name": "python2"
  },
  "language_info": {
   "codemirror_mode": {
    "name": "ipython",
    "version": 2
   },
   "file_extension": ".py",
   "mimetype": "text/x-python",
   "name": "python",
   "nbconvert_exporter": "python",
   "pygments_lexer": "ipython2",
   "version": "2.7.13"
  }
 },
 "nbformat": 4,
 "nbformat_minor": 2
}
