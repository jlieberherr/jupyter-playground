{
 "cells": [
  {
   "cell_type": "code",
   "execution_count": 3,
   "metadata": {},
   "outputs": [],
   "source": [
    "import random\n",
    "import pandas as pd\n",
    "import matplotlib.pyplot as plt"
   ]
  },
  {
   "cell_type": "markdown",
   "metadata": {},
   "source": [
    "# Ein Würfel"
   ]
  },
  {
   "cell_type": "code",
   "execution_count": 4,
   "metadata": {},
   "outputs": [],
   "source": [
    "def spiel_mir_das_spiel_der_grossen_zahlen(anzahl_ausfuehrungen):\n",
    "    absolute_haeufigkeiten = {\n",
    "        1: 0,\n",
    "        2: 0,\n",
    "        3: 0,\n",
    "        4: 0,\n",
    "        5: 0,\n",
    "        6: 0\n",
    "    }\n",
    "    for _ in range(anzahl_ausfuehrungen):\n",
    "        neuer_zufallswurf = random.randint(1, 6)\n",
    "        absolute_haeufigkeiten[neuer_zufallswurf] += 1\n",
    "    relative_haeufigkeiten = {k: float(v) / anzahl_ausfuehrungen for k, v in absolute_haeufigkeiten.items()}\n",
    "    return absolute_haeufigkeiten, relative_haeufigkeiten"
   ]
  },
  {
   "cell_type": "code",
   "execution_count": 5,
   "metadata": {},
   "outputs": [
    {
     "name": "stdout",
     "output_type": "stream",
     "text": [
      "Mittelwert absolut:  16666.6666667\n",
      "Mittelwert relativ: 0.166666666667\n",
      "Absolute Häufigkeiten:  {1: 16736, 2: 16611, 3: 16848, 4: 16667, 5: 16482, 6: 16656}\n",
      "Relative Häufigkeiten:  {1: 0.16736, 2: 0.16611, 3: 0.16848, 4: 0.16667, 5: 0.16482, 6: 0.16656}\n"
     ]
    },
    {
     "data": {
      "image/png": "[encoded data removed]",
      "text/plain": [
       "<Figure size 432x288 with 1 Axes>"
      ]
     },
     "metadata": {
      "needs_background": "light"
     },
     "output_type": "display_data"
    },
    {
     "data": {
      "image/png": "[encoded data removed]",
      "text/plain": [
       "<Figure size 432x288 with 1 Axes>"
      ]
     },
     "metadata": {
      "needs_background": "light"
     },
     "output_type": "display_data"
    }
   ],
   "source": [
    "ANZAHL_WUERFE = 100000\n",
    "\n",
    "absolute_haeufigkeiten, relative_haeufigkeiten = spiel_mir_das_spiel_der_grossen_zahlen(ANZAHL_WUERFE)\n",
    "print \"Mittelwert absolut: \", float(ANZAHL_WUERFE) / 6\n",
    "print \"Mittelwert relativ: {}\".format( 1.0 / 6)\n",
    "print \"Absolute Häufigkeiten: \", absolute_haeufigkeiten\n",
    "print \"Relative Häufigkeiten: \", relative_haeufigkeiten\n",
    "df_absolute_haeufigkeiten =pd.DataFrame({\"Augenzahl\": absolute_haeufigkeiten.keys(), \"Absolute Häufigkeit\": absolute_haeufigkeiten.values()})\n",
    "ax_abs = df_absolute_haeufigkeiten.plot.bar(x=\"Augenzahl\", y=\"Absolute Häufigkeit\", legend=None)\n",
    "ax_abs.set_xlabel('Augenzahl')\n",
    "ax_abs.set_ylabel(u'Absolute Häufigkeit')\n",
    "df_relative_haeufigkeiten =pd.DataFrame({\"Augenzahl\": relative_haeufigkeiten.keys(), \"Relative Häufigkeit\": relative_haeufigkeiten.values()})\n",
    "ax_rel = df_relative_haeufigkeiten.plot.bar(x=\"Augenzahl\", y=\"Relative Häufigkeit\", legend=None)\n",
    "ax_rel.set_xlabel('Augenzahl')\n",
    "ax_rel.set_ylabel(u'Relative Häufigkeit')\n",
    "plt.show()"
   ]
  },
  {
   "cell_type": "markdown",
   "metadata": {},
   "source": [
    "# Zwei Würfel"
   ]
  },
  {
   "cell_type": "markdown",
   "metadata": {},
   "source": [
    "Wie gross ist die Wahrscheinlichkeit, mit zwei Würfeln die Augensumme 7 zu werfen?"
   ]
  },
  {
   "cell_type": "code",
   "execution_count": 6,
   "metadata": {},
   "outputs": [],
   "source": [
    "def zaehle_wuerfe_mit_gegebener_augensumme(anzahl_ausfuehrungen, augensumme):\n",
    "    anzahl_erfolge = 0\n",
    "    for _ in range(anzahl_ausfuehrungen):\n",
    "        zufaellige_zahl_wuerfel_1 = random.randint(1, 6)\n",
    "        zufaellige_zahl_wuerfel_2 = random.randint(1, 6)\n",
    "        if zufaellige_zahl_wuerfel_1 + zufaellige_zahl_wuerfel_2 == augensumme:\n",
    "            anzahl_erfolge += 1\n",
    "    return anzahl_erfolge, float(anzahl_erfolge) / anzahl_ausfuehrungen"
   ]
  },
  {
   "cell_type": "code",
   "execution_count": 10,
   "metadata": {},
   "outputs": [
    {
     "name": "stdout",
     "output_type": "stream",
     "text": [
      "Absolute Häufigkeit: 16907\n",
      "Relative Häufigkeit: 0.16907\n"
     ]
    }
   ],
   "source": [
    "abs_haeufigkeit, rel_haeufigkeit = zaehle_wuerfe_mit_gegebener_augensumme(100000, 7)\n",
    "print \"Absolute Häufigkeit: {}\".format(abs_haeufigkeit)\n",
    "print \"Relative Häufigkeit: {}\".format(rel_haeufigkeit)"
   ]
  },
  {
   "cell_type": "code",
   "execution_count": null,
   "metadata": {},
   "outputs": [],
   "source": []
  }
 ],
 "metadata": {
  "kernelspec": {
   "display_name": "Python 2",
   "language": "python",
   "name": "python2"
  },
  "language_info": {
   "codemirror_mode": {
    "name": "ipython",
    "version": 2
   },
   "file_extension": ".py",
   "mimetype": "text/x-python",
   "name": "python",
   "nbconvert_exporter": "python",
   "pygments_lexer": "ipython2",
   "version": "2.7.16"
  }
 },
 "nbformat": 4,
 "nbformat_minor": 2
}
